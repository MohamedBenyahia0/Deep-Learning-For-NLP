{
  "cells": [
    {
      "cell_type": "markdown",
      "metadata": {
        "id": "MuVouapRmjEW"
      },
      "source": [
        "<center>   \n",
        "<h3> </h3>\n",
        "<h2>ALTeGraD 2024<br>Lab Session 1: HAN</h2>\n",
        "\n",
        "<h3>Hierarchical Attention Network Using GRU</h3> 8 / 10 / 2024<br> Dr. Guokan Shang, Yang Zhang<br><br>\n",
        "\n",
        "\n",
        "<b>Student name:</b> Mohamed Benyahia\n",
        "\n",
        "</center>\n",
        "In this lab, you will get familiar with recurrent neural networks (RNNs), self-attention, and the HAN architecture <b>(Yang et al. 2016)</b> using PyTorch. In this architecture, sentence embeddings are first individually produced, and a document embedding is then computed from the sentence embeddings.<br>\n",
        "<b>The deadline for this lab is October 15, 2024 11:59 PM.</b> More details about the submission and the architecture for this lab can be found in the handout PDF.\n"
      ]
    },
    {
      "cell_type": "markdown",
      "metadata": {
        "id": "xJaSJaIP1xRy"
      },
      "source": [
        "### = = = = =  Attention Layer = = = = =\n",
        "In thi section, you will fill the gaps in the code to implement the self-attention layer. This layer will be used later to define the HAN architecture. The basic idea behind attention is that rather than considering the last annotation $h_T$ as a summary of the entire sequence, which is prone to information loss, the annotations at <i>all</i> time steps are used.\n",
        "The self-attention mechanism computes a weighted sum of the annotations, where the weights are determined by trainable parameters. Refer to <b>section 2.2</b> in the handout for the theoretical part, it will be needed to finish the first task.\n",
        "\n",
        "#### <b>Task 1:</b>"
      ]
    },
    {
      "cell_type": "code",
      "execution_count": 1,
      "metadata": {
        "id": "yoM7H0KQncpF"
      },
      "outputs": [],
      "source": [
        "import torch\n",
        "from torch import nn\n",
        "from torch.utils.data import DataLoader\n",
        "\n",
        "class AttentionWithContext(nn.Module):\n",
        "    \"\"\"\n",
        "    Follows the work of Yang et al. [https://www.cs.cmu.edu/~diyiy/docs/naacl16.pdf]\n",
        "    \"Hierarchical Attention Networks for Document Classification\"\n",
        "    by using a context vector to assist the attention\n",
        "    # Input shape\n",
        "        3D tensor with shape: `(samples, steps, features)`.\n",
        "    # Output shape\n",
        "        2D tensor with shape: `(samples, features)`.\n",
        "    \"\"\"\n",
        "\n",
        "    def __init__(self, input_shape, return_coefficients=False, bias=True):\n",
        "        super(AttentionWithContext, self).__init__()\n",
        "        self.return_coefficients = return_coefficients\n",
        "\n",
        "        self.W = nn.Linear(input_shape, input_shape, bias=bias)\n",
        "        self.tanh = nn.Tanh()\n",
        "        self.u = nn.Linear(input_shape, 1, bias=False)\n",
        "\n",
        "        self.init_weights()\n",
        "\n",
        "    def init_weights(self):\n",
        "        initrange = 0.1\n",
        "        self.W.weight.data.uniform_(-initrange, initrange)\n",
        "        self.W.bias.data.uniform_(-initrange, initrange)\n",
        "        self.u.weight.data.uniform_(-initrange, initrange)\n",
        "\n",
        "    def generate_square_subsequent_mask(self, sz):\n",
        "        # do not pass the mask to the next layers\n",
        "        mask = (torch.triu(torch.ones(sz, sz)) == 1).transpose(0, 1)\n",
        "        mask = (\n",
        "            mask.float()\n",
        "            .masked_fill(mask == 0, float(\"-inf\"))\n",
        "            .masked_fill(mask == 1, float(0.0))\n",
        "        )\n",
        "        return mask\n",
        "\n",
        "    def forward(self, x, mask=None):\n",
        "        uit = self.W(x)# fill the gap # compute uit = W . x  where x represents ht\n",
        "        uit = self.tanh(uit)\n",
        "        ait = self.u(uit)\n",
        "        a = torch.exp(ait)\n",
        "\n",
        "        # apply mask after the exp. will be re-normalized next\n",
        "        if mask is not None:\n",
        "            a = a*mask.double()\n",
        "\n",
        "        # in some cases especially in the early stages of training the sum may be almost zero\n",
        "        # and this results in NaN's. A workaround is to add a very small positive number ε to the sum.\n",
        "        eps = 1e-9\n",
        "        a = a / (torch.sum(a, axis=1, keepdim=True) + eps)\n",
        "        weighted_input = torch.mul(a,x)### fill the gap ### # compute the attentional vector\n",
        "        if self.return_coefficients:\n",
        "            return  [torch.sum(weighted_input,axis=1),a]### [attentional vector, coefficients] ### use torch.sum to compute s\n",
        "        else:\n",
        "            return  torch.sum(weighted_input,axis=1)### attentional vector only ###"
      ]
    },
    {
      "cell_type": "markdown",
      "metadata": {
        "id": "DgTP6GrOHlss"
      },
      "source": [
        "### = = = = = Parameters = = = = =\n",
        "In this section, we define the parameters to use in our training. Such as data path, the embedding dimention <b>d</b>, the GRU layer dimensionality <b>n_units</b>, etc..<br>\n",
        "The parameter <b>device</b> is used to train the model on GPU if it is available. for this purpose, if you are using Google Colab, switch your runtime to a GPU runtime to train the model with a maximum speed.<br>\n",
        "<b>Bonus question:</b> What is the purpose of the parameter <i>my_patience</i>?"
      ]
    },
    {
      "cell_type": "code",
      "execution_count": 2,
      "metadata": {
        "id": "czsVjxgYnczb"
      },
      "outputs": [],
      "source": [
        "import sys\n",
        "import json\n",
        "import operator\n",
        "import numpy as np\n",
        "\n",
        "path_root = ''\n",
        "path_to_data = path_root + 'data/'\n",
        "\n",
        "d = 30 # dimensionality of word embeddings\n",
        "n_units = 50 # RNN layer dimensionality\n",
        "drop_rate = 0.5 # dropout\n",
        "mfw_idx = 2 # index of the most frequent words in the dictionary\n",
        "            # 0 is for the special padding token\n",
        "            # 1 is for the special out-of-vocabulary token\n",
        "\n",
        "padding_idx = 0\n",
        "oov_idx = 1\n",
        "batch_size = 64\n",
        "nb_epochs = 15\n",
        "my_patience = 2 # for early stopping strategy\n",
        "device = torch.device(\"cuda\" if torch.cuda.is_available() else \"cpu\")"
      ]
    },
    {
      "cell_type": "markdown",
      "metadata": {
        "id": "K8Vot_C7Hlst"
      },
      "source": [
        "### = = = = = Data Loading = = = = =\n",
        "In this section we will use first <b>wget</b> to download the data the we will load it using numpy in the first cell. While in the second cell, we will use these data to define our Pytorch data loader. Note that the data is already preprocessed, tokenized and padded.<br><br>\n",
        "<b>Note: if you are running your notebook on Windows or on MacOS, <i>wget</i> will probably not work if you did not install it manually. In this case, use the provided link to download the data and change the <i>path_to_data</i> in the <i>Parameters</i> section accordingly. Otherwise, you will face no problem on Ubuntu and Google Colab.</b>\n",
        "\n",
        "#### <b>Task 2.1:</b>"
      ]
    },
    {
      "cell_type": "code",
      "execution_count": 3,
      "metadata": {
        "colab": {
          "base_uri": "https://localhost:8080/"
        },
        "id": "UD6hRh0OHlst",
        "outputId": "cc04a090-90d3-42e2-9d57-8155156ae15a"
      },
      "outputs": [
        {
          "output_type": "stream",
          "name": "stdout",
          "text": [
            "Archive:  data.zip\n",
            "   creating: data/\n",
            "  inflating: __MACOSX/._data         \n",
            "  inflating: data/labels_train.npy   \n",
            "  inflating: __MACOSX/data/._labels_train.npy  \n",
            "  inflating: data/docs_test.npy      \n",
            "  inflating: __MACOSX/data/._docs_test.npy  \n",
            "  inflating: data/labels_test.npy    \n",
            "  inflating: __MACOSX/data/._labels_test.npy  \n",
            "  inflating: data/word_to_index.json  \n",
            "  inflating: __MACOSX/data/._word_to_index.json  \n",
            "  inflating: data/docs_train.npy     \n",
            "  inflating: __MACOSX/data/._docs_train.npy  \n"
          ]
        }
      ],
      "source": [
        "import urllib.request\n",
        "url = \"https://onedrive.live.com/download?cid=AE69638675180117&resid=AE69638675180117%2199289&authkey=AHgxt3xmgG0Fu5A\"\n",
        "output_file = \"data.zip\"\n",
        "urllib.request.urlretrieve(url, output_file)\n",
        "\n",
        "!unzip data.zip\n",
        "\n",
        "my_docs_array_train = np.load(path_to_data + 'docs_train.npy')\n",
        "my_docs_array_test = np.load(path_to_data + 'docs_test.npy')\n",
        "\n",
        "my_labels_array_train = np.load(path_to_data + 'labels_train.npy')\n",
        "my_labels_array_test = np.load(path_to_data + 'labels_test.npy')\n",
        "\n",
        "# load dictionary of word indexes (sorted by decreasing frequency across the corpus)\n",
        "with open(path_to_data + 'word_to_index.json', 'r') as my_file:\n",
        "    word_to_index = json.load(my_file)\n",
        "\n",
        "# invert mapping\n",
        "index_to_word ={ v:k for k,v in list(word_to_index.items())}  ### fill the gap (use a dict comprehension) ###\n",
        "input_size = my_docs_array_train.shape"
      ]
    },
    {
      "cell_type": "code",
      "execution_count": 4,
      "metadata": {
        "id": "DpsCvmaiJfZc"
      },
      "outputs": [],
      "source": [
        "import numpy\n",
        "import torch\n",
        "from torch.utils.data import DataLoader, Dataset\n",
        "\n",
        "\n",
        "class Dataset_(Dataset):\n",
        "    def __init__(self, x, y):\n",
        "        self.documents = x\n",
        "        self.labels = y\n",
        "\n",
        "    def __len__(self):\n",
        "        return len(self.documents)\n",
        "\n",
        "    def __getitem__(self, index):\n",
        "        document = self.documents[index]\n",
        "        label = self.labels[index]\n",
        "        sample = {\n",
        "            \"document\": torch.tensor(document),\n",
        "            \"label\": torch.tensor(label),\n",
        "            }\n",
        "        return sample\n",
        "\n",
        "\n",
        "def get_loader(x, y, batch_size=32):\n",
        "    dataset = Dataset_(x, y)\n",
        "    data_loader = DataLoader(dataset=dataset,\n",
        "                            batch_size=batch_size,\n",
        "                            shuffle=True,\n",
        "                            pin_memory=True,\n",
        "                            drop_last=True,\n",
        "                            )\n",
        "    return data_loader"
      ]
    },
    {
      "cell_type": "markdown",
      "metadata": {
        "id": "6rzqEGOdHlst"
      },
      "source": [
        "### = = = = = Defining Architecture = = = = =\n",
        "In this section, we define the HAN architecture. We start with <i>AttentionBiGRU</i> module in order to define the sentence encoder (check Figure 3 in the handout). Then, we define the <i>TimeDistributed</i> module to allow us to forward our input (batch of document) as to the sentence encoder as <b>batch of sentences</b>, where each sentence in the document will be considered as a time step. This module also reshape the output to a batch of timesteps representations per document. Finally we define the <b>HAN</b> architecture using <i>TimeDistributed</i>, <i>AttentionWithContext</i> and <i>GRU</i>.\n",
        "\n",
        "#### <b>Task 2.2:</b>"
      ]
    },
    {
      "cell_type": "code",
      "execution_count": 5,
      "metadata": {
        "id": "AMj9j1_pHlst"
      },
      "outputs": [],
      "source": [
        "\n",
        "class AttentionBiGRU(nn.Module):\n",
        "    def __init__(self, input_shape, n_units, index_to_word, dropout=0):\n",
        "        super(AttentionBiGRU, self).__init__()\n",
        "        self.embedding = nn.Embedding(len(index_to_word)+2,# fill the gap # vocab size\n",
        "                                      d, # dimensionality of embedding space\n",
        "                                      padding_idx=0)\n",
        "        self.dropout = nn.Dropout(drop_rate)\n",
        "        self.gru = nn.GRU(input_size=d,\n",
        "                          hidden_size=n_units,\n",
        "                          num_layers=1,\n",
        "                          bias=True,\n",
        "                          batch_first=True,\n",
        "                          bidirectional=True)\n",
        "        self.attention = AttentionWithContext(n_units*2,   # fill the gap # the input shape for the attention layer\n",
        "                                              return_coefficients=True)\n",
        "\n",
        "\n",
        "    def forward(self, sent_ints):\n",
        "        sent_wv = self.embedding(sent_ints)\n",
        "        sent_wv_dr = self.dropout(sent_wv)\n",
        "        sent_wa, _ =  self.gru.forward(sent_wv_dr)# fill the gap # RNN layer\n",
        "        sent_att_vec, word_att_coeffs = self.attention(sent_wa) # fill the gap # attentional vector for the sent\n",
        "        sent_att_vec_dr = self.dropout(sent_att_vec)\n",
        "        return sent_att_vec_dr, word_att_coeffs\n",
        "\n",
        "class TimeDistributed(nn.Module):\n",
        "    def __init__(self, module, batch_first=False):\n",
        "        super(TimeDistributed, self).__init__()\n",
        "        self.module = module\n",
        "        self.batch_first = batch_first\n",
        "\n",
        "    def forward(self, x):\n",
        "        if len(x.size()) <= 2:\n",
        "            return self.module(x)\n",
        "        # Squash samples and timesteps into a single axis\n",
        "        x_reshape = x.contiguous().view(-1, x.size(-1))  # (samples * timesteps, input_size) (448, 30)\n",
        "        sent_att_vec_dr, word_att_coeffs = self.module(x_reshape)\n",
        "        # We have to reshape the output\n",
        "        if self.batch_first:\n",
        "            sent_att_vec_dr = sent_att_vec_dr.contiguous().view(x.size(0), -1, sent_att_vec_dr.size(-1))  # (samples, timesteps, output_size)\n",
        "            word_att_coeffs = word_att_coeffs.contiguous().view(x.size(0), -1, word_att_coeffs.size(-1))  # (samples, timesteps, output_size)\n",
        "        else:\n",
        "            sent_att_vec_dr = sent_att_vec_dr.view(-1, x.size(1), sent_att_vec_dr.size(-1))  # (timesteps, samples, output_size)\n",
        "            word_att_coeffs = word_att_coeffs.view(-1, x.size(1), word_att_coeffs.size(-1))  # (timesteps, samples, output_size)\n",
        "        return sent_att_vec_dr, word_att_coeffs\n",
        "\n",
        "class HAN(nn.Module):\n",
        "    def __init__(self, input_shape, n_units, index_to_word, dropout=0):\n",
        "        super(HAN, self).__init__()\n",
        "        self.encoder = AttentionBiGRU(input_shape, n_units, index_to_word, dropout)\n",
        "        self.timeDistributed = TimeDistributed(self.encoder, True)\n",
        "        self.dropout = nn.Dropout(drop_rate)\n",
        "        self.gru = nn.GRU(input_size=2*n_units,# fill the gap # the input shape of GRU layer\n",
        "                          hidden_size=n_units,\n",
        "                          num_layers=1,\n",
        "                          bias=True,\n",
        "                          batch_first=True,\n",
        "                          bidirectional=True)\n",
        "        self.attention = AttentionWithContext(2*n_units, # fill the gap # the input shape of between-sentence attention layer\n",
        "                                              return_coefficients=True)\n",
        "        self.lin_out = nn.Linear(2*n_units,   # fill the gap # the input size of the last linear layer\n",
        "                                 1)\n",
        "        self.preds = nn.Sigmoid()\n",
        "\n",
        "    def forward(self, doc_ints):\n",
        "        sent_att_vecs_dr, word_att_coeffs = self.timeDistributed(doc_ints) # fill the gap # get sentence representation\n",
        "        doc_sa, _ = self.gru(sent_att_vecs_dr)\n",
        "        doc_att_vec, sent_att_coeffs = self.attention(doc_sa)\n",
        "        doc_att_vec_dr = self.dropout(doc_att_vec)\n",
        "        doc_att_vec_dr = self.lin_out(doc_att_vec_dr)\n",
        "        return self.preds(doc_att_vec_dr), word_att_coeffs, sent_att_coeffs\n"
      ]
    },
    {
      "cell_type": "markdown",
      "metadata": {
        "id": "sgreR5AcHlst"
      },
      "source": [
        "### = = = = = Training = = = = =\n",
        "In this section, we have two code cells. In the first one, we define our evaluation function to compute the training and validation accuracies. While in the second one, we define our model, loss and optimizer and train the model over <i>nb_epochs</i>.<br>\n",
        "<b>Bonus task:</b> use <a href=\"https://pytorch.org/tutorials/recipes/recipes/tensorboard_with_pytorch.html\" target=\"_blank\">tensorboard</a> to visualize the loss and the validation accuray during the training.\n",
        "\n",
        "#### <b>Task 2.3:</b>"
      ]
    },
    {
      "cell_type": "code",
      "execution_count": 6,
      "metadata": {
        "id": "ztF2Lkie-C25"
      },
      "outputs": [],
      "source": [
        "def evaluate_accuracy(data_loader, verbose=True):\n",
        "    model.eval()\n",
        "    total_loss = 0.0\n",
        "    ncorrect = ntotal = 0\n",
        "    with torch.no_grad():\n",
        "        for idx, data in enumerate(data_loader):\n",
        "            # inference\n",
        "            output = model(data[\"document\"].to(device))[0]\n",
        "            output = output[:, -1] # only last vector\n",
        "            # total number of examples\n",
        "            ntotal +=  output.shape[0]\n",
        "            # number of correct predictions\n",
        "            predictions = torch.round(output)\n",
        "            ncorrect += (predictions == data['label'].to(device)).sum()#fill me # number of correct prediction - hint: use torch.sum\n",
        "        acc = ncorrect.item() / ntotal\n",
        "        if verbose:\n",
        "          print(\"validation accuracy: {:3.2f}\".format(acc*100))\n",
        "        return acc"
      ]
    },
    {
      "cell_type": "code",
      "execution_count": 7,
      "metadata": {
        "colab": {
          "base_uri": "https://localhost:8080/"
        },
        "id": "RRYiKhZEEidb",
        "outputId": "5bf4f99a-1105-419b-847f-f0215b8a31d9"
      },
      "outputs": [
        {
          "output_type": "stream",
          "name": "stderr",
          "text": [
            "Epoch 1: 100%|██████████| 390/390 [00:23<00:00, 16.52batch/s, accuracy=59.5, loss=0.657]\n"
          ]
        },
        {
          "output_type": "stream",
          "name": "stdout",
          "text": [
            "===> Epoch 1 Complete: Avg. Loss: 0.6567, Validation Accuracy: 69.58%\n",
            "Validation accuracy improved, saving model...\n",
            "\n"
          ]
        },
        {
          "output_type": "stream",
          "name": "stderr",
          "text": [
            "Epoch 2: 100%|██████████| 390/390 [00:17<00:00, 22.03batch/s, accuracy=70.8, loss=0.566]\n"
          ]
        },
        {
          "output_type": "stream",
          "name": "stdout",
          "text": [
            "===> Epoch 2 Complete: Avg. Loss: 0.5661, Validation Accuracy: 72.06%\n",
            "Validation accuracy improved, saving model...\n",
            "\n"
          ]
        },
        {
          "output_type": "stream",
          "name": "stderr",
          "text": [
            "Epoch 3: 100%|██████████| 390/390 [00:18<00:00, 21.09batch/s, accuracy=75.4, loss=0.509]\n"
          ]
        },
        {
          "output_type": "stream",
          "name": "stdout",
          "text": [
            "===> Epoch 3 Complete: Avg. Loss: 0.5085, Validation Accuracy: 77.10%\n",
            "Validation accuracy improved, saving model...\n",
            "\n"
          ]
        },
        {
          "output_type": "stream",
          "name": "stderr",
          "text": [
            "Epoch 4: 100%|██████████| 390/390 [00:17<00:00, 22.34batch/s, accuracy=78.1, loss=0.463]\n"
          ]
        },
        {
          "output_type": "stream",
          "name": "stdout",
          "text": [
            "===> Epoch 4 Complete: Avg. Loss: 0.4635, Validation Accuracy: 79.06%\n",
            "Validation accuracy improved, saving model...\n",
            "\n"
          ]
        },
        {
          "output_type": "stream",
          "name": "stderr",
          "text": [
            "Epoch 5: 100%|██████████| 390/390 [00:17<00:00, 22.25batch/s, accuracy=80.2, loss=0.433]\n"
          ]
        },
        {
          "output_type": "stream",
          "name": "stdout",
          "text": [
            "===> Epoch 5 Complete: Avg. Loss: 0.4328, Validation Accuracy: 80.10%\n",
            "Validation accuracy improved, saving model...\n",
            "\n"
          ]
        },
        {
          "output_type": "stream",
          "name": "stderr",
          "text": [
            "Epoch 6: 100%|██████████| 390/390 [00:17<00:00, 22.54batch/s, accuracy=81.7, loss=0.405]\n"
          ]
        },
        {
          "output_type": "stream",
          "name": "stdout",
          "text": [
            "===> Epoch 6 Complete: Avg. Loss: 0.4049, Validation Accuracy: 81.94%\n",
            "Validation accuracy improved, saving model...\n",
            "\n"
          ]
        },
        {
          "output_type": "stream",
          "name": "stderr",
          "text": [
            "Epoch 7: 100%|██████████| 390/390 [00:17<00:00, 22.48batch/s, accuracy=82.7, loss=0.385]\n"
          ]
        },
        {
          "output_type": "stream",
          "name": "stdout",
          "text": [
            "===> Epoch 7 Complete: Avg. Loss: 0.3851, Validation Accuracy: 79.26%\n"
          ]
        },
        {
          "output_type": "stream",
          "name": "stderr",
          "text": [
            "Epoch 8: 100%|██████████| 390/390 [00:17<00:00, 22.26batch/s, accuracy=83.7, loss=0.368]\n"
          ]
        },
        {
          "output_type": "stream",
          "name": "stdout",
          "text": [
            "===> Epoch 8 Complete: Avg. Loss: 0.3677, Validation Accuracy: 81.58%\n",
            "Validation accuracy did not improve for 2 epochs, stopping training...\n"
          ]
        },
        {
          "output_type": "stream",
          "name": "stderr",
          "text": [
            "Epoch 9: 100%|██████████| 390/390 [00:17<00:00, 22.41batch/s, accuracy=84.8, loss=0.352]\n"
          ]
        },
        {
          "output_type": "stream",
          "name": "stdout",
          "text": [
            "===> Epoch 9 Complete: Avg. Loss: 0.3515, Validation Accuracy: 83.56%\n",
            "Validation accuracy improved, saving model...\n",
            "\n"
          ]
        },
        {
          "output_type": "stream",
          "name": "stderr",
          "text": [
            "Epoch 10: 100%|██████████| 390/390 [00:17<00:00, 22.51batch/s, accuracy=85.6, loss=0.336]\n"
          ]
        },
        {
          "output_type": "stream",
          "name": "stdout",
          "text": [
            "===> Epoch 10 Complete: Avg. Loss: 0.3357, Validation Accuracy: 82.04%\n"
          ]
        },
        {
          "output_type": "stream",
          "name": "stderr",
          "text": [
            "Epoch 11: 100%|██████████| 390/390 [00:17<00:00, 22.58batch/s, accuracy=86.2, loss=0.322]\n"
          ]
        },
        {
          "output_type": "stream",
          "name": "stdout",
          "text": [
            "===> Epoch 11 Complete: Avg. Loss: 0.3223, Validation Accuracy: 80.34%\n",
            "Validation accuracy did not improve for 2 epochs, stopping training...\n"
          ]
        },
        {
          "output_type": "stream",
          "name": "stderr",
          "text": [
            "Epoch 12: 100%|██████████| 390/390 [00:17<00:00, 22.42batch/s, accuracy=87.1, loss=0.308]\n"
          ]
        },
        {
          "output_type": "stream",
          "name": "stdout",
          "text": [
            "===> Epoch 12 Complete: Avg. Loss: 0.3083, Validation Accuracy: 84.13%\n",
            "Validation accuracy improved, saving model...\n",
            "\n"
          ]
        },
        {
          "output_type": "stream",
          "name": "stderr",
          "text": [
            "Epoch 13: 100%|██████████| 390/390 [00:17<00:00, 22.41batch/s, accuracy=87.7, loss=0.297]\n"
          ]
        },
        {
          "output_type": "stream",
          "name": "stdout",
          "text": [
            "===> Epoch 13 Complete: Avg. Loss: 0.2972, Validation Accuracy: 82.54%\n"
          ]
        },
        {
          "output_type": "stream",
          "name": "stderr",
          "text": [
            "Epoch 14: 100%|██████████| 390/390 [00:17<00:00, 22.47batch/s, accuracy=88.2, loss=0.284]\n"
          ]
        },
        {
          "output_type": "stream",
          "name": "stdout",
          "text": [
            "===> Epoch 14 Complete: Avg. Loss: 0.2835, Validation Accuracy: 82.71%\n",
            "Validation accuracy did not improve for 2 epochs, stopping training...\n"
          ]
        },
        {
          "output_type": "stream",
          "name": "stderr",
          "text": [
            "Epoch 15: 100%|██████████| 390/390 [00:17<00:00, 22.44batch/s, accuracy=88.6, loss=0.272]\n"
          ]
        },
        {
          "output_type": "stream",
          "name": "stdout",
          "text": [
            "===> Epoch 15 Complete: Avg. Loss: 0.2722, Validation Accuracy: 84.82%\n",
            "Validation accuracy improved, saving model...\n",
            "\n",
            "Loading best checkpoint...\n",
            "done.\n"
          ]
        },
        {
          "output_type": "stream",
          "name": "stderr",
          "text": [
            "<ipython-input-7-5581a88f3094>:60: FutureWarning: You are using `torch.load` with `weights_only=False` (the current default value), which uses the default pickle module implicitly. It is possible to construct malicious pickle data which will execute arbitrary code during unpickling (See https://github.com/pytorch/pytorch/blob/main/SECURITY.md#untrusted-models for more details). In a future release, the default value for `weights_only` will be flipped to `True`. This limits the functions that could be executed during unpickling. Arbitrary objects will no longer be allowed to be loaded via this mode unless they are explicitly allowlisted by the user via `torch.serialization.add_safe_globals`. We recommend you start setting `weights_only=True` for any use case where you don't have full control of the loaded file. Please open an issue on GitHub for any issues related to this experimental feature.\n",
            "  model.load_state_dict(torch.load('./best_model.pt'))\n"
          ]
        }
      ],
      "source": [
        "from tqdm import tqdm\n",
        "\n",
        "model = HAN(input_size, n_units, index_to_word).to(device)\n",
        "model = model.double()\n",
        "lr = 0.001  # learning rate\n",
        "criterion = nn.BCELoss()# fill the gap, use Binary cross entropy from torch.nn: https://pytorch.org/docs/stable/nn.html#loss-functions\n",
        "optimizer = torch.optim.Adam(model.parameters(), lr=lr) #fill me\n",
        "\n",
        "def train(x_train=my_docs_array_train,\n",
        "          y_train=my_labels_array_train,\n",
        "          x_test=my_docs_array_test,\n",
        "          y_test=my_labels_array_test,\n",
        "          word_dict=index_to_word,\n",
        "          batch_size=batch_size):\n",
        "\n",
        "    train_data = get_loader(x_train, y_train, batch_size)\n",
        "    test_data = get_loader(my_docs_array_test, my_labels_array_test, batch_size)\n",
        "\n",
        "    best_validation_acc = 0.0\n",
        "    p = 0 # patience\n",
        "\n",
        "    for epoch in range(1, nb_epochs + 1):\n",
        "        losses = []\n",
        "        accuracies = []\n",
        "        with tqdm(train_data, unit=\"batch\") as tepoch:\n",
        "            for idx, data in enumerate(tepoch):\n",
        "                tepoch.set_description(f\"Epoch {epoch}\")\n",
        "                model.train()\n",
        "                optimizer.zero_grad()\n",
        "                input = data['document'].to(device)\n",
        "                label = data['label'].to(device)\n",
        "                label = label.double()\n",
        "                output = model.forward(input)[0]\n",
        "                output = output[:, -1]\n",
        "                loss = criterion(output, label)# fill the gap # compute the loss\n",
        "                loss.backward()\n",
        "                torch.nn.utils.clip_grad_norm_(model.parameters(), 0.5) # prevent exploding gradient\n",
        "                optimizer.step()\n",
        "\n",
        "                losses.append(loss.item())\n",
        "                accuracy = torch.sum(torch.round(output) == label).item() / batch_size\n",
        "                accuracies.append(accuracy)\n",
        "                tepoch.set_postfix(loss=sum(losses)/len(losses), accuracy=100. * sum(accuracies)/len(accuracies))\n",
        "\n",
        "        # train_acc = evaluate_accuracy(train_data, False)\n",
        "        test_acc = evaluate_accuracy(test_data, False)\n",
        "        print(\"===> Epoch {} Complete: Avg. Loss: {:.4f}, Validation Accuracy: {:3.2f}%\"\n",
        "              .format(epoch, sum(losses)/len(losses), 100.*test_acc))\n",
        "        if test_acc >= best_validation_acc:\n",
        "            best_validation_acc = test_acc\n",
        "            print(\"Validation accuracy improved, saving model...\")\n",
        "            torch.save(model.state_dict(), './best_model.pt')\n",
        "            p = 0\n",
        "            print()\n",
        "        else:\n",
        "            p += 1\n",
        "            if p==my_patience:\n",
        "                print(\"Validation accuracy did not improve for {} epochs, stopping training...\".format(my_patience))\n",
        "    print(\"Loading best checkpoint...\")\n",
        "    model.load_state_dict(torch.load('./best_model.pt'))\n",
        "    model.eval()\n",
        "    print('done.')\n",
        "\n",
        "train()"
      ]
    },
    {
      "cell_type": "markdown",
      "metadata": {
        "id": "Dvyr8B5QHlst"
      },
      "source": [
        "### = = = = = Extraction of Attention Coefficients = = = = =\n",
        "In this section, we will extract and display the attention coefficients on two levels: sentence level and word level. To do so, we will extract the corresponding weights from our model.\n",
        "#### <b>Task 3:</b>"
      ]
    },
    {
      "cell_type": "code",
      "execution_count": 8,
      "metadata": {
        "id": "UVr8cS4MHlst"
      },
      "outputs": [],
      "source": [
        "# select last review:\n",
        "my_review = my_docs_array_test[-1:,:,:]\n",
        "\n",
        "# convert integer review to text:\n",
        "index_to_word[1] = 'OOV'\n",
        "my_review_text = [[index_to_word[idx] for idx in sent if idx in index_to_word] for sent in my_review.tolist()[0]]"
      ]
    },
    {
      "cell_type": "code",
      "execution_count": 9,
      "metadata": {
        "colab": {
          "base_uri": "https://localhost:8080/"
        },
        "id": "JI469Zf_xZIx",
        "outputId": "90a8f56b-2ecd-474c-d8f2-78eb48e6b2d8"
      },
      "outputs": [
        {
          "output_type": "execute_result",
          "data": {
            "text/plain": [
              "Linear(in_features=100, out_features=100, bias=True)"
            ]
          },
          "metadata": {},
          "execution_count": 9
        }
      ],
      "source": [
        "model.attention.W"
      ]
    },
    {
      "cell_type": "markdown",
      "metadata": {
        "id": "wHDJ7JiqHlsu"
      },
      "source": [
        "###   &emsp;&emsp;  = = = = = Attention Over Sentences in the Document = = = = ="
      ]
    },
    {
      "cell_type": "code",
      "execution_count": 10,
      "metadata": {
        "colab": {
          "base_uri": "https://localhost:8080/"
        },
        "id": "yooWg3kkHlsu",
        "outputId": "d8e767e5-9799-4233-f91c-18f4cf7a7c07"
      },
      "outputs": [
        {
          "output_type": "stream",
          "name": "stdout",
          "text": [
            "6.93 There 's a sign on The Lost Highway that says : OOV SPOILERS OOV ( but you already knew that , did n't you ? )\n",
            "8.36 Since there 's a great deal of people that apparently did not get the point of this movie , I 'd like to contribute my interpretation of why the plot\n",
            "5.21 As others have pointed out , one single viewing of this movie is not sufficient .\n",
            "7.87 If you have the DVD of MD , you can OOV ' by looking at David Lynch 's 'Top 10 OOV to OOV MD ' ( but only upon second\n",
            "23.5 ; ) First of all , Mulholland Drive is downright brilliant .\n",
            "27.89 A masterpiece .\n",
            "20.24 This is the kind of movie that refuse to leave your head .\n"
          ]
        }
      ],
      "source": [
        "sent_coeffs = model(torch.from_numpy(my_review).to(device))[2]# fill the gap # get sentence attention coeffs by passing the review to the model - (you need to convert the inout torch tensor)\n",
        "sent_coeffs = sent_coeffs[0,:,:]\n",
        "\n",
        "for elt in zip(sent_coeffs[:,0].tolist(),[' '.join(elt) for elt in my_review_text]):\n",
        "    print(round(elt[0]*100,2),elt[1])"
      ]
    },
    {
      "cell_type": "markdown",
      "metadata": {
        "id": "rII-DNrKHlsu"
      },
      "source": [
        "### &emsp;&emsp; = = = = = Attention Over Words in Each Sentence = = = = ="
      ]
    },
    {
      "cell_type": "code",
      "execution_count": 11,
      "metadata": {
        "colab": {
          "base_uri": "https://localhost:8080/"
        },
        "id": "JyFjAga6Hlsu",
        "outputId": "f256e07d-f721-4aa4-a736-78518ffdc6b9"
      },
      "outputs": [
        {
          "output_type": "stream",
          "name": "stdout",
          "text": [
            "('There', 0.0894956290468358)\n",
            "(\"'s\", 0.0408062875301386)\n",
            "('a', 0.0357207228525347)\n",
            "('sign', 0.08179374510633142)\n",
            "('on', 0.04104192980167511)\n",
            "('The', 0.028436943212518714)\n",
            "('Lost', 0.0444545842162239)\n",
            "('Highway', 0.03668229486610131)\n",
            "('that', 0.02557890754509723)\n",
            "('says', 0.024871839846248273)\n",
            "(':', 0.02048371719911319)\n",
            "('OOV', 0.019237864469080598)\n",
            "('SPOILERS', 0.024815391230943624)\n",
            "('OOV', 0.02467230087552402)\n",
            "('(', 0.02289148283487898)\n",
            "('but', 0.0274610819603411)\n",
            "('you', 0.029189277421832513)\n",
            "('already', 0.046009615441908576)\n",
            "('knew', 0.03854615606798453)\n",
            "('that', 0.023127712185532497)\n",
            "(',', 0.01953886284216135)\n",
            "('did', 0.019300527058511725)\n",
            "(\"n't\", 0.02656065072008973)\n",
            "('you', 0.02514016965078524)\n",
            "('?', 0.036496915457995646)\n",
            "(')', 0.022558496726852662)\n",
            "= = = =\n",
            "('Since', 0.04756398943713833)\n",
            "('there', 0.03061526111756961)\n",
            "(\"'s\", 0.04227320503485618)\n",
            "('a', 0.04424761489267124)\n",
            "('great', 0.18722472528616405)\n",
            "('deal', 0.07273791645853929)\n",
            "('of', 0.023919254882410295)\n",
            "('people', 0.02812407318530163)\n",
            "('that', 0.018471904984741883)\n",
            "('apparently', 0.01805468101318405)\n",
            "('did', 0.015261610879652984)\n",
            "('not', 0.013343504740457122)\n",
            "('get', 0.013093638847222719)\n",
            "('the', 0.010648370442130186)\n",
            "('point', 0.0174632210034971)\n",
            "('of', 0.01925986746035118)\n",
            "('this', 0.028696026718699575)\n",
            "('movie', 0.03675023652446273)\n",
            "(',', 0.016590546561432527)\n",
            "('I', 0.021061091594033812)\n",
            "(\"'d\", 0.02678161113196641)\n",
            "('like', 0.045439951420233576)\n",
            "('to', 0.03207110930047412)\n",
            "('contribute', 0.04482494085722051)\n",
            "('my', 0.030019140362971746)\n",
            "('interpretation', 0.02399618609737863)\n",
            "('of', 0.016882929155488505)\n",
            "('why', 0.01913069613772358)\n",
            "('the', 0.016340428083131152)\n",
            "('plot', 0.03911226625123816)\n",
            "= = = =\n",
            "('As', 0.03840434307919041)\n",
            "('others', 0.026233240107839024)\n",
            "('have', 0.027788590817311252)\n",
            "('pointed', 0.020987999077444853)\n",
            "('out', 0.026445756389858688)\n",
            "(',', 0.017379788909704687)\n",
            "('one', 0.020715577738282122)\n",
            "('single', 0.0322917488053834)\n",
            "('viewing', 0.03625055930954842)\n",
            "('of', 0.03147421587227847)\n",
            "('this', 0.03396765914288982)\n",
            "('movie', 0.04308218258070374)\n",
            "('is', 0.04233027024553435)\n",
            "('not', 0.03241868085928349)\n",
            "('sufficient', 0.07754541467022293)\n",
            "('.', 0.029311563796289963)\n",
            "= = = =\n",
            "('If', 0.029770873661960105)\n",
            "('you', 0.02309460739339298)\n",
            "('have', 0.021683056521846603)\n",
            "('the', 0.019693277228136716)\n",
            "('DVD', 0.025256910928350206)\n",
            "('of', 0.01705747939579078)\n",
            "('MD', 0.025815953982603876)\n",
            "(',', 0.01765072731530284)\n",
            "('you', 0.018359960688244293)\n",
            "('can', 0.01656959838702183)\n",
            "('OOV', 0.01904004105770248)\n",
            "(\"'\", 0.02535123838676084)\n",
            "('by', 0.02737710188454597)\n",
            "('looking', 0.04654387062522286)\n",
            "('at', 0.040691529327675294)\n",
            "('David', 0.07672746490386205)\n",
            "('Lynch', 0.06540355565147508)\n",
            "(\"'s\", 0.032893707847449785)\n",
            "(\"'Top\", 0.0284677178379685)\n",
            "('10', 0.019782737737507584)\n",
            "('OOV', 0.024583050054226747)\n",
            "('to', 0.02164497183341432)\n",
            "('OOV', 0.02232093049055738)\n",
            "('MD', 0.03359453064656583)\n",
            "(\"'\", 0.037987000992458664)\n",
            "('(', 0.036569689548354614)\n",
            "('but', 0.0426580624381118)\n",
            "('only', 0.054592651938909706)\n",
            "('upon', 0.07929882447798767)\n",
            "('second', 0.049518876622309534)\n",
            "= = = =\n",
            "(';', 0.02263362715755037)\n",
            "(')', 0.014026847393214883)\n",
            "('First', 0.022192956174936915)\n",
            "('of', 0.012140551022772984)\n",
            "('all', 0.013109521975582952)\n",
            "(',', 0.00945354614699366)\n",
            "('Mulholland', 0.010992676222976982)\n",
            "('Drive', 0.026482287702468726)\n",
            "('is', 0.02762864638103343)\n",
            "('downright', 0.24730960095401705)\n",
            "('brilliant', 0.2797527777474276)\n",
            "('.', 0.039502748165092305)\n",
            "= = = =\n",
            "('A', 0.08747744517893824)\n",
            "('masterpiece', 0.24513547320130724)\n",
            "('.', 0.037174233051679655)\n",
            "= = = =\n",
            "('This', 0.024383644105153618)\n",
            "('is', 0.03456323284830062)\n",
            "('the', 0.06965557232641377)\n",
            "('kind', 0.15997111105523745)\n",
            "('of', 0.07581986562258676)\n",
            "('movie', 0.05179913367497607)\n",
            "('that', 0.023323543028956648)\n",
            "('refuse', 0.08000117107985565)\n",
            "('to', 0.046980436188049486)\n",
            "('leave', 0.0394268923267591)\n",
            "('your', 0.030025863605771357)\n",
            "('head', 0.12303732402073704)\n",
            "('.', 0.015398747532550291)\n",
            "= = = =\n",
            "('There', 0.0894956290468358)\n",
            "('sign', 0.08179374510633142)\n",
            "('already', 0.046009615441908576)\n",
            "('Lost', 0.0444545842162239)\n",
            "('on', 0.04104192980167511)\n",
            "(\"'s\", 0.0408062875301386)\n",
            "('knew', 0.03854615606798453)\n",
            "('Highway', 0.03668229486610131)\n",
            "('?', 0.036496915457995646)\n",
            "('a', 0.0357207228525347)\n",
            "('you', 0.029189277421832513)\n",
            "('The', 0.028436943212518714)\n",
            "('but', 0.0274610819603411)\n",
            "(\"n't\", 0.02656065072008973)\n",
            "('that', 0.02557890754509723)\n",
            "('you', 0.02514016965078524)\n",
            "('says', 0.024871839846248273)\n",
            "('SPOILERS', 0.024815391230943624)\n",
            "('OOV', 0.02467230087552402)\n",
            "('that', 0.023127712185532497)\n",
            "('(', 0.02289148283487898)\n",
            "(')', 0.022558496726852662)\n",
            "(':', 0.02048371719911319)\n",
            "(',', 0.01953886284216135)\n",
            "('did', 0.019300527058511725)\n",
            "('OOV', 0.019237864469080598)\n",
            "= = = =\n",
            "('great', 0.18722472528616405)\n",
            "('deal', 0.07273791645853929)\n",
            "('Since', 0.04756398943713833)\n",
            "('like', 0.045439951420233576)\n",
            "('contribute', 0.04482494085722051)\n",
            "('a', 0.04424761489267124)\n",
            "(\"'s\", 0.04227320503485618)\n",
            "('plot', 0.03911226625123816)\n",
            "('movie', 0.03675023652446273)\n",
            "('to', 0.03207110930047412)\n",
            "('there', 0.03061526111756961)\n",
            "('my', 0.030019140362971746)\n",
            "('this', 0.028696026718699575)\n",
            "('people', 0.02812407318530163)\n",
            "(\"'d\", 0.02678161113196641)\n",
            "('interpretation', 0.02399618609737863)\n",
            "('of', 0.023919254882410295)\n",
            "('I', 0.021061091594033812)\n",
            "('of', 0.01925986746035118)\n",
            "('why', 0.01913069613772358)\n",
            "('that', 0.018471904984741883)\n",
            "('apparently', 0.01805468101318405)\n",
            "('point', 0.0174632210034971)\n",
            "('of', 0.016882929155488505)\n",
            "(',', 0.016590546561432527)\n",
            "('the', 0.016340428083131152)\n",
            "('did', 0.015261610879652984)\n",
            "('not', 0.013343504740457122)\n",
            "('get', 0.013093638847222719)\n",
            "('the', 0.010648370442130186)\n",
            "= = = =\n",
            "('sufficient', 0.07754541467022293)\n",
            "('movie', 0.04308218258070374)\n",
            "('is', 0.04233027024553435)\n",
            "('As', 0.03840434307919041)\n",
            "('viewing', 0.03625055930954842)\n",
            "('this', 0.03396765914288982)\n",
            "('not', 0.03241868085928349)\n",
            "('single', 0.0322917488053834)\n",
            "('of', 0.03147421587227847)\n",
            "('.', 0.029311563796289963)\n",
            "('have', 0.027788590817311252)\n",
            "('out', 0.026445756389858688)\n",
            "('others', 0.026233240107839024)\n",
            "('pointed', 0.020987999077444853)\n",
            "('one', 0.020715577738282122)\n",
            "(',', 0.017379788909704687)\n",
            "= = = =\n",
            "('upon', 0.07929882447798767)\n",
            "('David', 0.07672746490386205)\n",
            "('Lynch', 0.06540355565147508)\n",
            "('only', 0.054592651938909706)\n",
            "('second', 0.049518876622309534)\n",
            "('looking', 0.04654387062522286)\n",
            "('but', 0.0426580624381118)\n",
            "('at', 0.040691529327675294)\n",
            "(\"'\", 0.037987000992458664)\n",
            "('(', 0.036569689548354614)\n",
            "('MD', 0.03359453064656583)\n",
            "(\"'s\", 0.032893707847449785)\n",
            "('If', 0.029770873661960105)\n",
            "(\"'Top\", 0.0284677178379685)\n",
            "('by', 0.02737710188454597)\n",
            "('MD', 0.025815953982603876)\n",
            "(\"'\", 0.02535123838676084)\n",
            "('DVD', 0.025256910928350206)\n",
            "('OOV', 0.024583050054226747)\n",
            "('you', 0.02309460739339298)\n",
            "('OOV', 0.02232093049055738)\n",
            "('have', 0.021683056521846603)\n",
            "('to', 0.02164497183341432)\n",
            "('10', 0.019782737737507584)\n",
            "('the', 0.019693277228136716)\n",
            "('OOV', 0.01904004105770248)\n",
            "('you', 0.018359960688244293)\n",
            "(',', 0.01765072731530284)\n",
            "('of', 0.01705747939579078)\n",
            "('can', 0.01656959838702183)\n",
            "= = = =\n",
            "('brilliant', 0.2797527777474276)\n",
            "('downright', 0.24730960095401705)\n",
            "('.', 0.039502748165092305)\n",
            "('is', 0.02762864638103343)\n",
            "('Drive', 0.026482287702468726)\n",
            "(';', 0.02263362715755037)\n",
            "('First', 0.022192956174936915)\n",
            "(')', 0.014026847393214883)\n",
            "('all', 0.013109521975582952)\n",
            "('of', 0.012140551022772984)\n",
            "('Mulholland', 0.010992676222976982)\n",
            "(',', 0.00945354614699366)\n",
            "= = = =\n",
            "('masterpiece', 0.24513547320130724)\n",
            "('A', 0.08747744517893824)\n",
            "('.', 0.037174233051679655)\n",
            "= = = =\n",
            "('kind', 0.15997111105523745)\n",
            "('head', 0.12303732402073704)\n",
            "('refuse', 0.08000117107985565)\n",
            "('of', 0.07581986562258676)\n",
            "('the', 0.06965557232641377)\n",
            "('movie', 0.05179913367497607)\n",
            "('to', 0.046980436188049486)\n",
            "('leave', 0.0394268923267591)\n",
            "('is', 0.03456323284830062)\n",
            "('your', 0.030025863605771357)\n",
            "('This', 0.024383644105153618)\n",
            "('that', 0.023323543028956648)\n",
            "('.', 0.015398747532550291)\n",
            "= = = =\n"
          ]
        }
      ],
      "source": [
        "word_coeffs = model(torch.from_numpy(my_review).to(device))[1]# fill the gap # get words attention coeffs by passing the review to the model - (you need to convert the inout torch tensor)\n",
        "\n",
        "word_coeffs_list = word_coeffs.reshape(7,30).tolist()\n",
        "\n",
        "# match text and coefficients:\n",
        "text_word_coeffs = [list(zip(words,word_coeffs_list[idx][:len(words)])) for idx,words in enumerate(my_review_text)]\n",
        "\n",
        "for sent in text_word_coeffs:\n",
        "    [print(elt) for elt in sent]\n",
        "    print('= = = =')\n",
        "\n",
        "# sort words by importance within each sentence:\n",
        "text_word_coeffs_sorted = [sorted(elt,key=operator.itemgetter(1),reverse=True) for elt in text_word_coeffs]\n",
        "\n",
        "for sent in text_word_coeffs_sorted:\n",
        "    [print(elt) for elt in sent]\n",
        "    print('= = = =')"
      ]
    },
    {
      "cell_type": "markdown",
      "source": [
        "**Code for question 3:**"
      ],
      "metadata": {
        "id": "FFbsaC2Ui6wM"
      }
    },
    {
      "cell_type": "code",
      "source": [
        "def extract_tokens_and_coeffs(text_word_coeffs):\n",
        "    tokens = []\n",
        "    word_attentions = []\n",
        "    for sentence in text_word_coeffs:\n",
        "        sentence_tokens = [word for word, coeff in sentence]\n",
        "        sentence_coeffs = [coeff for word, coeff in sentence]\n",
        "        tokens.append(sentence_tokens)\n",
        "        word_attentions.append(sentence_coeffs)\n",
        "    return tokens, word_attentions\n",
        "\n",
        "\n",
        "\n",
        "tokens, word_attentions = extract_tokens_and_coeffs(text_word_coeffs)\n"
      ],
      "metadata": {
        "id": "eSh39A9XiJwY"
      },
      "execution_count": 14,
      "outputs": []
    },
    {
      "cell_type": "code",
      "source": [
        "import matplotlib.pyplot as plt\n",
        "import seaborn as sns\n",
        "import numpy as np\n",
        "\n",
        "def plot_attention(tokens, word_attentions, sentence_attentions):\n",
        "    # Ensure the number of sentences matches\n",
        "    assert len(tokens) == len(word_attentions) == len(sentence_attentions), \"Mismatch in number of sentences.\"\n",
        "\n",
        "    plt.figure(figsize=(15, 10))\n",
        "\n",
        "    for i, (sentence, word_att) in enumerate(zip(tokens, word_attentions)):\n",
        "        ax = plt.subplot(len(tokens), 1, i + 1)\n",
        "        sns.heatmap(np.array(word_att).reshape(1, -1), cmap='Reds', cbar=False, annot=np.array(sentence).reshape(1, -1), fmt='', linewidths=0.5, ax=ax)\n",
        "        ax.set_title(f'Sentence Attention: {sentence_attentions[i]:.2f}', fontsize=12, color='blue')\n",
        "        ax.set_xticklabels(ax.get_xticklabels(), rotation=45, ha='right')\n",
        "        ax.set_yticklabels([])\n",
        "\n",
        "    plt.tight_layout()\n",
        "    plt.show()\n",
        "\n",
        "\n",
        "sentence_attentions = sent_coeffs.flatten().tolist()\n",
        "\n",
        "plot_attention(tokens, word_attentions, sentence_attentions)\n"
      ],
      "metadata": {
        "colab": {
          "base_uri": "https://localhost:8080/",
          "height": 711
        },
        "id": "DnxAmE5Mgk4H",
        "outputId": "a3f4d13a-18c1-4c67-dccc-76bd9805fddd"
      },
      "execution_count": 15,
      "outputs": [
        {
          "output_type": "display_data",
          "data": {
            "text/plain": [
              "<Figure size 1500x1000 with 7 Axes>"
            ],
            "image/png": "[encoded data removed]"
          },
          "metadata": {}
        }
      ]
    },
    {
      "cell_type": "markdown",
      "metadata": {
        "id": "C9JblVhaHlsu"
      },
      "source": []
    }
  ],
  "metadata": {
    "accelerator": "GPU",
    "colab": {
      "gpuType": "T4",
      "provenance": []
    },
    "kernelspec": {
      "display_name": "Python 3",
      "name": "python3"
    },
    "language_info": {
      "codemirror_mode": {
        "name": "ipython",
        "version": 3
      },
      "file_extension": ".py",
      "mimetype": "text/x-python",
      "name": "python",
      "nbconvert_exporter": "python",
      "pygments_lexer": "ipython3",
      "version": "3.9.10"
    },
    "vscode": {
      "interpreter": {
        "hash": "b0fa6594d8f4cbf19f97940f81e996739fb7646882a419484c72d19e05852a7e"
      }
    }
  },
  "nbformat": 4,
  "nbformat_minor": 0
}